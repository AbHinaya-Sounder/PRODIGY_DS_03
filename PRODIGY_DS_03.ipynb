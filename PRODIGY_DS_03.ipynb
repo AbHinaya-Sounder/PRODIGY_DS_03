{
 "cells": [
  {
   "cell_type": "code",
   "execution_count": 5,
   "id": "c9600994-79ea-47ed-9d7e-5328707e4792",
   "metadata": {},
   "outputs": [
    {
     "data": {
      "text/html": [
       "<div>\n",
       "<style scoped>\n",
       "    .dataframe tbody tr th:only-of-type {\n",
       "        vertical-align: middle;\n",
       "    }\n",
       "\n",
       "    .dataframe tbody tr th {\n",
       "        vertical-align: top;\n",
       "    }\n",
       "\n",
       "    .dataframe thead th {\n",
       "        text-align: right;\n",
       "    }\n",
       "</style>\n",
       "<table border=\"1\" class=\"dataframe\">\n",
       "  <thead>\n",
       "    <tr style=\"text-align: right;\">\n",
       "      <th></th>\n",
       "      <th>Age</th>\n",
       "      <th>Job</th>\n",
       "      <th>Marital Status</th>\n",
       "      <th>Education</th>\n",
       "      <th>Default</th>\n",
       "      <th>Housing Loan</th>\n",
       "      <th>Personal Loan</th>\n",
       "      <th>Contact</th>\n",
       "      <th>Month</th>\n",
       "      <th>Day</th>\n",
       "      <th>...</th>\n",
       "      <th>Campaign</th>\n",
       "      <th>Pdays</th>\n",
       "      <th>Previous</th>\n",
       "      <th>Poutcome</th>\n",
       "      <th>Emp. Var Rate</th>\n",
       "      <th>Cons. Price Index</th>\n",
       "      <th>Cons. Confidence Index</th>\n",
       "      <th>Euribor3m</th>\n",
       "      <th>Nr. Employed</th>\n",
       "      <th>Subscription (Target Variable)</th>\n",
       "    </tr>\n",
       "  </thead>\n",
       "  <tbody>\n",
       "    <tr>\n",
       "      <th>0</th>\n",
       "      <td>57</td>\n",
       "      <td>services</td>\n",
       "      <td>married</td>\n",
       "      <td>high.school</td>\n",
       "      <td>unknown</td>\n",
       "      <td>no</td>\n",
       "      <td>no</td>\n",
       "      <td>telephone</td>\n",
       "      <td>may</td>\n",
       "      <td>mon</td>\n",
       "      <td>...</td>\n",
       "      <td>1</td>\n",
       "      <td>999</td>\n",
       "      <td>0</td>\n",
       "      <td>nonexistent</td>\n",
       "      <td>1.1</td>\n",
       "      <td>93.994</td>\n",
       "      <td>-36.4</td>\n",
       "      <td>4.857</td>\n",
       "      <td>5191.0</td>\n",
       "      <td>no</td>\n",
       "    </tr>\n",
       "    <tr>\n",
       "      <th>1</th>\n",
       "      <td>37</td>\n",
       "      <td>services</td>\n",
       "      <td>married</td>\n",
       "      <td>high.school</td>\n",
       "      <td>no</td>\n",
       "      <td>yes</td>\n",
       "      <td>no</td>\n",
       "      <td>telephone</td>\n",
       "      <td>may</td>\n",
       "      <td>mon</td>\n",
       "      <td>...</td>\n",
       "      <td>1</td>\n",
       "      <td>999</td>\n",
       "      <td>0</td>\n",
       "      <td>nonexistent</td>\n",
       "      <td>1.1</td>\n",
       "      <td>93.994</td>\n",
       "      <td>-36.4</td>\n",
       "      <td>4.857</td>\n",
       "      <td>5191.0</td>\n",
       "      <td>no</td>\n",
       "    </tr>\n",
       "    <tr>\n",
       "      <th>2</th>\n",
       "      <td>40</td>\n",
       "      <td>admin.</td>\n",
       "      <td>married</td>\n",
       "      <td>basic.6y</td>\n",
       "      <td>no</td>\n",
       "      <td>no</td>\n",
       "      <td>no</td>\n",
       "      <td>telephone</td>\n",
       "      <td>may</td>\n",
       "      <td>mon</td>\n",
       "      <td>...</td>\n",
       "      <td>1</td>\n",
       "      <td>999</td>\n",
       "      <td>0</td>\n",
       "      <td>nonexistent</td>\n",
       "      <td>1.1</td>\n",
       "      <td>93.994</td>\n",
       "      <td>-36.4</td>\n",
       "      <td>4.857</td>\n",
       "      <td>5191.0</td>\n",
       "      <td>no</td>\n",
       "    </tr>\n",
       "    <tr>\n",
       "      <th>3</th>\n",
       "      <td>56</td>\n",
       "      <td>services</td>\n",
       "      <td>married</td>\n",
       "      <td>high.school</td>\n",
       "      <td>no</td>\n",
       "      <td>no</td>\n",
       "      <td>yes</td>\n",
       "      <td>telephone</td>\n",
       "      <td>may</td>\n",
       "      <td>mon</td>\n",
       "      <td>...</td>\n",
       "      <td>1</td>\n",
       "      <td>999</td>\n",
       "      <td>0</td>\n",
       "      <td>nonexistent</td>\n",
       "      <td>1.1</td>\n",
       "      <td>93.994</td>\n",
       "      <td>-36.4</td>\n",
       "      <td>4.857</td>\n",
       "      <td>5191.0</td>\n",
       "      <td>no</td>\n",
       "    </tr>\n",
       "    <tr>\n",
       "      <th>4</th>\n",
       "      <td>45</td>\n",
       "      <td>services</td>\n",
       "      <td>married</td>\n",
       "      <td>basic.9y</td>\n",
       "      <td>unknown</td>\n",
       "      <td>no</td>\n",
       "      <td>no</td>\n",
       "      <td>telephone</td>\n",
       "      <td>may</td>\n",
       "      <td>mon</td>\n",
       "      <td>...</td>\n",
       "      <td>1</td>\n",
       "      <td>999</td>\n",
       "      <td>0</td>\n",
       "      <td>nonexistent</td>\n",
       "      <td>1.1</td>\n",
       "      <td>93.994</td>\n",
       "      <td>-36.4</td>\n",
       "      <td>4.857</td>\n",
       "      <td>5191.0</td>\n",
       "      <td>no</td>\n",
       "    </tr>\n",
       "  </tbody>\n",
       "</table>\n",
       "<p>5 rows × 21 columns</p>\n",
       "</div>"
      ],
      "text/plain": [
       "   Age       Job Marital Status    Education  Default Housing Loan  \\\n",
       "0   57  services        married  high.school  unknown           no   \n",
       "1   37  services        married  high.school       no          yes   \n",
       "2   40    admin.        married     basic.6y       no           no   \n",
       "3   56  services        married  high.school       no           no   \n",
       "4   45  services        married     basic.9y  unknown           no   \n",
       "\n",
       "  Personal Loan    Contact Month  Day  ...  Campaign  Pdays  Previous  \\\n",
       "0            no  telephone   may  mon  ...         1    999         0   \n",
       "1            no  telephone   may  mon  ...         1    999         0   \n",
       "2            no  telephone   may  mon  ...         1    999         0   \n",
       "3           yes  telephone   may  mon  ...         1    999         0   \n",
       "4            no  telephone   may  mon  ...         1    999         0   \n",
       "\n",
       "      Poutcome Emp. Var Rate  Cons. Price Index  Cons. Confidence Index  \\\n",
       "0  nonexistent           1.1             93.994                   -36.4   \n",
       "1  nonexistent           1.1             93.994                   -36.4   \n",
       "2  nonexistent           1.1             93.994                   -36.4   \n",
       "3  nonexistent           1.1             93.994                   -36.4   \n",
       "4  nonexistent           1.1             93.994                   -36.4   \n",
       "\n",
       "   Euribor3m  Nr. Employed  Subscription (Target Variable)  \n",
       "0      4.857        5191.0                              no  \n",
       "1      4.857        5191.0                              no  \n",
       "2      4.857        5191.0                              no  \n",
       "3      4.857        5191.0                              no  \n",
       "4      4.857        5191.0                              no  \n",
       "\n",
       "[5 rows x 21 columns]"
      ]
     },
     "execution_count": 5,
     "metadata": {},
     "output_type": "execute_result"
    }
   ],
   "source": [
    "import pandas as pd  \n",
    "\n",
    "# Load dataset\n",
    "df = pd.read_csv(\"final_cleaned_task3.csv\")  \n",
    "\n",
    "# Display first few rows\n",
    "df.head()\n"
   ]
  },
  {
   "cell_type": "code",
   "execution_count": 9,
   "id": "0a628ead-9cc8-45ce-821e-76ce2bf30f44",
   "metadata": {},
   "outputs": [
    {
     "name": "stdout",
     "output_type": "stream",
     "text": [
      "Index(['Age', 'Job', 'Marital Status', 'Education', 'Default', 'Housing Loan',\n",
      "       'Personal Loan', 'Contact', 'Month', 'Day', 'Duration', 'Campaign',\n",
      "       'Pdays', 'Previous', 'Poutcome', 'Emp. Var Rate', 'Cons. Price Index',\n",
      "       'Cons. Confidence Index', 'Euribor3m', 'Nr. Employed',\n",
      "       'Subscription (Target Variable)'],\n",
      "      dtype='object')\n"
     ]
    }
   ],
   "source": [
    "print(df.columns)\n"
   ]
  },
  {
   "cell_type": "code",
   "execution_count": 11,
   "id": "ad422930-5473-4d41-be5a-85862d83cdfc",
   "metadata": {},
   "outputs": [],
   "source": [
    "df.columns = df.columns.str.strip().str.lower()  # Remove spaces & lowercase\n"
   ]
  },
  {
   "cell_type": "code",
   "execution_count": 13,
   "id": "9c96eaef-4344-4167-9994-4a10c4b99062",
   "metadata": {},
   "outputs": [
    {
     "name": "stdout",
     "output_type": "stream",
     "text": [
      "Index(['age', 'job', 'marital status', 'education', 'default', 'housing loan',\n",
      "       'personal loan', 'contact', 'month', 'day', 'duration', 'campaign',\n",
      "       'pdays', 'previous', 'poutcome', 'emp. var rate', 'cons. price index',\n",
      "       'cons. confidence index', 'euribor3m', 'nr. employed',\n",
      "       'subscription (target variable)'],\n",
      "      dtype='object')\n"
     ]
    }
   ],
   "source": [
    "print(df.columns)"
   ]
  },
  {
   "cell_type": "code",
   "execution_count": 15,
   "id": "d2f5a2bb-ab48-42bf-b82c-405c7b23b10d",
   "metadata": {},
   "outputs": [
    {
     "name": "stdout",
     "output_type": "stream",
     "text": [
      "Column Names: Index(['age', 'job', 'marital status', 'education', 'default', 'housing loan',\n",
      "       'personal loan', 'contact', 'month', 'day', 'duration', 'campaign',\n",
      "       'pdays', 'previous', 'poutcome', 'emp. var rate', 'cons. price index',\n",
      "       'cons. confidence index', 'euribor3m', 'nr. employed',\n",
      "       'subscription (target variable)'],\n",
      "      dtype='object')\n",
      "Encoding Complete. Check Data Types:\n",
      "<class 'pandas.core.frame.DataFrame'>\n",
      "RangeIndex: 41187 entries, 0 to 41186\n",
      "Data columns (total 21 columns):\n",
      " #   Column                          Non-Null Count  Dtype  \n",
      "---  ------                          --------------  -----  \n",
      " 0   age                             41187 non-null  int64  \n",
      " 1   job                             41187 non-null  int32  \n",
      " 2   marital status                  41187 non-null  object \n",
      " 3   education                       41187 non-null  int32  \n",
      " 4   default                         41187 non-null  int32  \n",
      " 5   housing loan                    41187 non-null  object \n",
      " 6   personal loan                   41187 non-null  object \n",
      " 7   contact                         41187 non-null  int32  \n",
      " 8   month                           41187 non-null  int32  \n",
      " 9   day                             41187 non-null  object \n",
      " 10  duration                        41187 non-null  int64  \n",
      " 11  campaign                        41187 non-null  int64  \n",
      " 12  pdays                           41187 non-null  int64  \n",
      " 13  previous                        41187 non-null  int64  \n",
      " 14  poutcome                        41187 non-null  int32  \n",
      " 15  emp. var rate                   41187 non-null  float64\n",
      " 16  cons. price index               41187 non-null  float64\n",
      " 17  cons. confidence index          41187 non-null  float64\n",
      " 18  euribor3m                       41187 non-null  float64\n",
      " 19  nr. employed                    41187 non-null  float64\n",
      " 20  subscription (target variable)  41187 non-null  object \n",
      "dtypes: float64(5), int32(6), int64(5), object(5)\n",
      "memory usage: 5.7+ MB\n",
      "None\n"
     ]
    }
   ],
   "source": [
    "import pandas as pd\n",
    "from sklearn.preprocessing import LabelEncoder\n",
    "\n",
    "# Check column names\n",
    "print(\"Column Names:\", df.columns)\n",
    "\n",
    "# Ensure column names are properly formatted\n",
    "df.columns = df.columns.str.strip().str.lower()\n",
    "\n",
    "# Define categorical columns (check if they exist)\n",
    "categorical_cols = [\"job\", \"marital\", \"education\", \"default\", \"housing\", \"loan\", \"contact\", \"month\", \"poutcome\", \"y\"]\n",
    "\n",
    "# Ensure all columns exist in the dataset\n",
    "existing_categorical_cols = [col for col in categorical_cols if col in df.columns]\n",
    "\n",
    "# Apply Label Encoding\n",
    "encoder = LabelEncoder()\n",
    "for col in existing_categorical_cols:\n",
    "    df[col] = encoder.fit_transform(df[col])\n",
    "\n",
    "print(\"Encoding Complete. Check Data Types:\")\n",
    "print(df.info())\n"
   ]
  },
  {
   "cell_type": "code",
   "execution_count": 19,
   "id": "a10803b2-958d-4e5f-bdba-270e9496fec4",
   "metadata": {},
   "outputs": [
    {
     "name": "stdout",
     "output_type": "stream",
     "text": [
      "Available Columns: Index(['age', 'job', 'marital status', 'education', 'default', 'housing loan',\n",
      "       'personal loan', 'contact', 'month', 'day', 'duration', 'campaign',\n",
      "       'pdays', 'previous', 'poutcome', 'emp. var rate', 'cons. price index',\n",
      "       'cons. confidence index', 'euribor3m', 'nr. employed',\n",
      "       'subscription (target variable)'],\n",
      "      dtype='object')\n",
      "Error: Target column 'y' not found. Check column names!\n"
     ]
    }
   ],
   "source": [
    "# Fix column formatting\n",
    "df.columns = df.columns.str.strip().str.lower()\n",
    "\n",
    "# Check available columns\n",
    "print(\"Available Columns:\", df.columns)\n",
    "\n",
    "# Define correct target column (modify if needed)\n",
    "target_col = \"y\"  # Change this if the actual target column has a different name\n",
    "\n",
    "# Verify if target column exists before proceeding\n",
    "if target_col in df.columns:\n",
    "    X = df.drop(columns=[target_col])  \n",
    "    y = df[target_col]\n",
    "    print(\"Data Successfully Split into Features (X) and Target (y)\")\n",
    "else:\n",
    "    print(f\"Error: Target column '{target_col}' not found. Check column names!\")\n"
   ]
  },
  {
   "cell_type": "code",
   "execution_count": 21,
   "id": "3d42bc91-03e2-4b25-823e-7753c04e6ee4",
   "metadata": {},
   "outputs": [
    {
     "name": "stdout",
     "output_type": "stream",
     "text": [
      "Data Successfully Split into Features (X) and Target (y)\n"
     ]
    }
   ],
   "source": [
    "# Fix column formatting\n",
    "df.columns = df.columns.str.strip().str.lower()\n",
    "\n",
    "# Rename the target column for easier access\n",
    "df.rename(columns={'subscription (target variable)': 'target'}, inplace=True)\n",
    "\n",
    "# Now define features (X) and target variable (y)\n",
    "X = df.drop(columns=['target'])  \n",
    "y = df['target']\n",
    "\n",
    "print(\"Data Successfully Split into Features (X) and Target (y)\")\n"
   ]
  },
  {
   "cell_type": "code",
   "execution_count": 23,
   "id": "bab3a3ec-8764-4b0b-bc96-96b6b401f012",
   "metadata": {},
   "outputs": [
    {
     "name": "stdout",
     "output_type": "stream",
     "text": [
      "   age  job marital status  education  default housing loan personal loan  \\\n",
      "0   57    7        married          3        1           no            no   \n",
      "1   37    7        married          3        0          yes            no   \n",
      "2   40    0        married          1        0           no            no   \n",
      "3   56    7        married          3        0           no           yes   \n",
      "4   45    7        married          2        1           no            no   \n",
      "\n",
      "   contact  month  day  ...  campaign  pdays  previous  poutcome  \\\n",
      "0        1      6  mon  ...         1    999         0         1   \n",
      "1        1      6  mon  ...         1    999         0         1   \n",
      "2        1      6  mon  ...         1    999         0         1   \n",
      "3        1      6  mon  ...         1    999         0         1   \n",
      "4        1      6  mon  ...         1    999         0         1   \n",
      "\n",
      "   emp. var rate  cons. price index  cons. confidence index  euribor3m  \\\n",
      "0            1.1             93.994                   -36.4      4.857   \n",
      "1            1.1             93.994                   -36.4      4.857   \n",
      "2            1.1             93.994                   -36.4      4.857   \n",
      "3            1.1             93.994                   -36.4      4.857   \n",
      "4            1.1             93.994                   -36.4      4.857   \n",
      "\n",
      "   nr. employed  target  \n",
      "0        5191.0      no  \n",
      "1        5191.0      no  \n",
      "2        5191.0      no  \n",
      "3        5191.0      no  \n",
      "4        5191.0      no  \n",
      "\n",
      "[5 rows x 21 columns]\n",
      "<class 'pandas.core.frame.DataFrame'>\n",
      "RangeIndex: 41187 entries, 0 to 41186\n",
      "Data columns (total 21 columns):\n",
      " #   Column                  Non-Null Count  Dtype  \n",
      "---  ------                  --------------  -----  \n",
      " 0   age                     41187 non-null  int64  \n",
      " 1   job                     41187 non-null  int32  \n",
      " 2   marital status          41187 non-null  object \n",
      " 3   education               41187 non-null  int32  \n",
      " 4   default                 41187 non-null  int32  \n",
      " 5   housing loan            41187 non-null  object \n",
      " 6   personal loan           41187 non-null  object \n",
      " 7   contact                 41187 non-null  int32  \n",
      " 8   month                   41187 non-null  int32  \n",
      " 9   day                     41187 non-null  object \n",
      " 10  duration                41187 non-null  int64  \n",
      " 11  campaign                41187 non-null  int64  \n",
      " 12  pdays                   41187 non-null  int64  \n",
      " 13  previous                41187 non-null  int64  \n",
      " 14  poutcome                41187 non-null  int32  \n",
      " 15  emp. var rate           41187 non-null  float64\n",
      " 16  cons. price index       41187 non-null  float64\n",
      " 17  cons. confidence index  41187 non-null  float64\n",
      " 18  euribor3m               41187 non-null  float64\n",
      " 19  nr. employed            41187 non-null  float64\n",
      " 20  target                  41187 non-null  object \n",
      "dtypes: float64(5), int32(6), int64(5), object(5)\n",
      "memory usage: 5.7+ MB\n",
      "None\n"
     ]
    }
   ],
   "source": [
    "print(df.head())  # Preview first few rows\n",
    "print(df.info())  # Check updated column names and data types\n"
   ]
  },
  {
   "cell_type": "code",
   "execution_count": 27,
   "id": "b356b32c-0841-4ea1-89f0-dc443a7ba16d",
   "metadata": {},
   "outputs": [
    {
     "name": "stdout",
     "output_type": "stream",
     "text": [
      "Data Successfully Split!\n"
     ]
    }
   ],
   "source": [
    "from sklearn.model_selection import train_test_split\n",
    "\n",
    "# Define features (X) and target (y)\n",
    "X = df.drop(columns=['target'])  \n",
    "y = df['target']\n",
    "\n",
    "# Split into 80% training and 20% testing\n",
    "X_train, X_test, y_train, y_test = train_test_split(X, y, test_size=0.2, random_state=42)\n",
    "\n",
    "print(\"Data Successfully Split!\")\n"
   ]
  },
  {
   "cell_type": "code",
   "execution_count": 31,
   "id": "02d896ea-714c-41f3-b861-9482b830c8c7",
   "metadata": {},
   "outputs": [
    {
     "name": "stdout",
     "output_type": "stream",
     "text": [
      "age                         int64\n",
      "job                         int32\n",
      "marital status             object\n",
      "education                   int32\n",
      "default                     int32\n",
      "housing loan               object\n",
      "personal loan              object\n",
      "contact                     int32\n",
      "month                       int32\n",
      "day                        object\n",
      "duration                    int64\n",
      "campaign                    int64\n",
      "pdays                       int64\n",
      "previous                    int64\n",
      "poutcome                    int32\n",
      "emp. var rate             float64\n",
      "cons. price index         float64\n",
      "cons. confidence index    float64\n",
      "euribor3m                 float64\n",
      "nr. employed              float64\n",
      "target                     object\n",
      "dtype: object\n"
     ]
    }
   ],
   "source": [
    "print(df.dtypes)\n"
   ]
  },
  {
   "cell_type": "code",
   "execution_count": 37,
   "id": "35896b1a-e977-495c-a575-52afd90c9fe6",
   "metadata": {},
   "outputs": [],
   "source": [
    "from sklearn.preprocessing import LabelEncoder  \n",
    "\n",
    "categorical_cols = ['job', 'marital status', 'education', 'default', 'housing loan', \n",
    "                    'personal loan', 'contact', 'month', 'poutcome', 'target']\n",
    "\n",
    "encoder = LabelEncoder()\n",
    "for col in categorical_cols:\n",
    "    df[col] = encoder.fit_transform(df[col])\n"
   ]
  },
  {
   "cell_type": "code",
   "execution_count": 39,
   "id": "035d89a8-f204-45a0-8a6a-be274da0c940",
   "metadata": {},
   "outputs": [],
   "source": [
    "from sklearn.preprocessing import LabelEncoder  \n",
    "\n",
    "categorical_cols = ['job', 'marital status', 'education', 'default', 'housing loan', \n",
    "                    'personal loan', 'contact', 'month', 'poutcome', 'target']\n",
    "\n",
    "encoder = LabelEncoder()\n",
    "for col in categorical_cols:\n",
    "    df[col] = encoder.fit_transform(df[col])"
   ]
  },
  {
   "cell_type": "code",
   "execution_count": 41,
   "id": "d54ef2cb-1b0b-4415-a71f-1bd379cebcfe",
   "metadata": {},
   "outputs": [],
   "source": [
    "df = pd.get_dummies(df, columns=categorical_cols, drop_first=True)\n"
   ]
  },
  {
   "cell_type": "code",
   "execution_count": 49,
   "id": "ebf7580b-c44a-4a6f-935c-8568e4e5c781",
   "metadata": {},
   "outputs": [
    {
     "name": "stdout",
     "output_type": "stream",
     "text": [
      "Index(['age', 'day', 'duration', 'campaign', 'pdays', 'previous',\n",
      "       'emp. var rate', 'cons. price index', 'cons. confidence index',\n",
      "       'euribor3m', 'nr. employed', 'job_1', 'job_2', 'job_3', 'job_4',\n",
      "       'job_5', 'job_6', 'job_7', 'job_8', 'job_9', 'job_10', 'job_11',\n",
      "       'marital status_1', 'marital status_2', 'marital status_3',\n",
      "       'education_1', 'education_2', 'education_3', 'education_4',\n",
      "       'education_5', 'education_6', 'education_7', 'default_1', 'default_2',\n",
      "       'housing loan_1', 'housing loan_2', 'personal loan_1',\n",
      "       'personal loan_2', 'contact_1', 'month_1', 'month_2', 'month_3',\n",
      "       'month_4', 'month_5', 'month_6', 'month_7', 'month_8', 'month_9',\n",
      "       'poutcome_1', 'poutcome_2', 'target_1'],\n",
      "      dtype='object')\n"
     ]
    }
   ],
   "source": [
    "print(df.columns)\n"
   ]
  },
  {
   "cell_type": "code",
   "execution_count": 53,
   "id": "e031d186-ee5a-4661-9d19-9a1e9ba89eb3",
   "metadata": {},
   "outputs": [
    {
     "name": "stdout",
     "output_type": "stream",
     "text": [
      "age                         int64\n",
      "day                        object\n",
      "duration                    int64\n",
      "campaign                    int64\n",
      "pdays                       int64\n",
      "previous                    int64\n",
      "emp. var rate             float64\n",
      "cons. price index         float64\n",
      "cons. confidence index    float64\n",
      "euribor3m                 float64\n",
      "nr. employed              float64\n",
      "job_1                        bool\n",
      "job_2                        bool\n",
      "job_3                        bool\n",
      "job_4                        bool\n",
      "job_5                        bool\n",
      "job_6                        bool\n",
      "job_7                        bool\n",
      "job_8                        bool\n",
      "job_9                        bool\n",
      "job_10                       bool\n",
      "job_11                       bool\n",
      "marital status_1             bool\n",
      "marital status_2             bool\n",
      "marital status_3             bool\n",
      "education_1                  bool\n",
      "education_2                  bool\n",
      "education_3                  bool\n",
      "education_4                  bool\n",
      "education_5                  bool\n",
      "education_6                  bool\n",
      "education_7                  bool\n",
      "default_1                    bool\n",
      "default_2                    bool\n",
      "housing loan_1               bool\n",
      "housing loan_2               bool\n",
      "personal loan_1              bool\n",
      "personal loan_2              bool\n",
      "contact_1                    bool\n",
      "month_1                      bool\n",
      "month_2                      bool\n",
      "month_3                      bool\n",
      "month_4                      bool\n",
      "month_5                      bool\n",
      "month_6                      bool\n",
      "month_7                      bool\n",
      "month_8                      bool\n",
      "month_9                      bool\n",
      "poutcome_1                   bool\n",
      "poutcome_2                   bool\n",
      "target_1                     bool\n",
      "dtype: object\n"
     ]
    }
   ],
   "source": [
    "print(df.dtypes)\n"
   ]
  },
  {
   "cell_type": "code",
   "execution_count": 61,
   "id": "cd3006f3-3749-41da-a842-1de6b3e5a263",
   "metadata": {},
   "outputs": [],
   "source": [
    "from sklearn.preprocessing import LabelEncoder\n",
    "df['day'] = LabelEncoder().fit_transform(df['day'])\n"
   ]
  },
  {
   "cell_type": "code",
   "execution_count": 63,
   "id": "c0bac4fc-b9d4-4318-8455-568829c01e69",
   "metadata": {},
   "outputs": [],
   "source": [
    "X = df.drop(columns=['target_1'])  \n",
    "y = df['target_1']\n"
   ]
  },
  {
   "cell_type": "code",
   "execution_count": 65,
   "id": "404e5558-2f13-4c96-b77c-f57cd5a4e1fa",
   "metadata": {},
   "outputs": [],
   "source": [
    "from sklearn.model_selection import train_test_split\n",
    "from sklearn.ensemble import RandomForestClassifier\n",
    "\n",
    "# Train-Test Split\n",
    "X_train, X_test, y_train, y_test = train_test_split(X, y, test_size=0.2, random_state=42)\n",
    "\n",
    "# Train Model\n",
    "model = RandomForestClassifier(random_state=42)\n",
    "model.fit(X_train, y_train)\n",
    "\n",
    "# Make Predictions\n",
    "y_pred = model.predict(X_test)\n"
   ]
  },
  {
   "cell_type": "code",
   "execution_count": 67,
   "id": "78191a3d-96a3-4191-bce5-23b4cd684d94",
   "metadata": {},
   "outputs": [
    {
     "name": "stdout",
     "output_type": "stream",
     "text": [
      "Model Accuracy: 0.91\n",
      "Classification Report:\n",
      "               precision    recall  f1-score   support\n",
      "\n",
      "       False       0.94      0.97      0.95      7321\n",
      "        True       0.64      0.49      0.55       917\n",
      "\n",
      "    accuracy                           0.91      8238\n",
      "   macro avg       0.79      0.73      0.75      8238\n",
      "weighted avg       0.90      0.91      0.91      8238\n",
      "\n"
     ]
    },
    {
     "data": {
      "image/png": "[encoded data removed]",
      "text/plain": [
       "<Figure size 600x400 with 2 Axes>"
      ]
     },
     "metadata": {},
     "output_type": "display_data"
    }
   ],
   "source": [
    "from sklearn.metrics import accuracy_score, classification_report, confusion_matrix  \n",
    "import seaborn as sns  \n",
    "import matplotlib.pyplot as plt  \n",
    "\n",
    "# Accuracy Score\n",
    "accuracy = accuracy_score(y_test, y_pred)\n",
    "print(f\"Model Accuracy: {accuracy:.2f}\")\n",
    "\n",
    "# Classification Report\n",
    "print(\"Classification Report:\\n\", classification_report(y_test, y_pred))\n",
    "\n",
    "# Confusion Matrix\n",
    "cm = confusion_matrix(y_test, y_pred)\n",
    "\n",
    "# Plot Confusion Matrix\n",
    "plt.figure(figsize=(6,4))\n",
    "sns.heatmap(cm, annot=True, fmt=\"d\", cmap=\"Blues\", xticklabels=[\"No\", \"Yes\"], yticklabels=[\"No\", \"Yes\"])\n",
    "plt.xlabel(\"Predicted\")\n",
    "plt.ylabel(\"Actual\")\n",
    "plt.title(\"Confusion Matrix\")\n",
    "plt.show()\n"
   ]
  },
  {
   "cell_type": "code",
   "execution_count": null,
   "id": "2efcf368-41f6-4fc2-a440-4866e069e620",
   "metadata": {},
   "outputs": [],
   "source": []
  }
 ],
 "metadata": {
  "kernelspec": {
   "display_name": "Python [conda env:base] *",
   "language": "python",
   "name": "conda-base-py"
  },
  "language_info": {
   "codemirror_mode": {
    "name": "ipython",
    "version": 3
   },
   "file_extension": ".py",
   "mimetype": "text/x-python",
   "name": "python",
   "nbconvert_exporter": "python",
   "pygments_lexer": "ipython3",
   "version": "3.12.7"
  }
 },
 "nbformat": 4,
 "nbformat_minor": 5
}
